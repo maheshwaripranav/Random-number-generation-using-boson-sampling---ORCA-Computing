{
 "cells": [
  {
   "cell_type": "code",
   "execution_count": 33,
   "id": "a3f6ba2f-2f91-4906-8b08-796a972d3823",
   "metadata": {},
   "outputs": [],
   "source": [
    "import strawberryfields as sf\n",
    "from strawberryfields.ops import *\n",
    "import numpy as np\n",
    "import matplotlib.pyplot as plt"
   ]
  },
  {
   "cell_type": "markdown",
   "id": "46675b18-67c6-4eab-9d79-f0a2a80f3d48",
   "metadata": {},
   "source": [
    "# BOSON SAMPLER"
   ]
  },
  {
   "cell_type": "markdown",
   "id": "da874625-8505-47e1-8b55-41c55d558f68",
   "metadata": {},
   "source": [
    "### Circuit for Boson Sampling"
   ]
  },
  {
   "cell_type": "code",
   "execution_count": 12,
   "id": "2bc62d62-4227-42ee-98f1-8d7d80153c26",
   "metadata": {},
   "outputs": [],
   "source": [
    "def boson_sampler(in_state,depth):\n",
    "    theta = np.random.random()\n",
    "    theta = 2*theta*np.pi\n",
    "    theta_phi = np.random.rand(2)\n",
    "    theta_phi = np.pi*theta_phi[0],2*np.pi*theta_phi[1]\n",
    "    \n",
    "    m = len(in_state)\n",
    "    boson_sampling = sf.Program(m)\n",
    "    \n",
    "    with boson_sampling.context as q:\n",
    "        j = 0\n",
    "        for i in in_state: \n",
    "            Fock(int(i)) | q[j]\n",
    "            j+=1\n",
    "            \n",
    "        for i in range(m):     \n",
    "            Rgate(theta)  | q[i]\n",
    "\n",
    "        for _ in range(depth):\n",
    "            for i in range(m-1):\n",
    "                BSgate(theta_phi[0],theta_phi[1]) | (q[i],q[i+1])\n",
    "\n",
    "        MeasureFock() | q\n",
    "\n",
    "    eng = sf.Engine(backend=\"fock\", backend_options={\"cutoff_dim\": 5})\n",
    "    results = eng.run(boson_sampling)\n",
    "    \n",
    "    return results.samples"
   ]
  },
  {
   "cell_type": "markdown",
   "id": "1ee60e04-f292-4f1d-a10d-0748feeb2d2e",
   "metadata": {},
   "source": [
    "### Von-Neumann Post Processing"
   ]
  },
  {
   "cell_type": "code",
   "execution_count": 39,
   "id": "9dd1d9db-e5c6-4efc-a73e-23f8be954b85",
   "metadata": {},
   "outputs": [],
   "source": [
    "def post_processing(state,depth):\n",
    "    while True:\n",
    "        s1 = boson_sampler(state,depth)\n",
    "        s2 = boson_sampler(state,depth)\n",
    "\n",
    "        bits = ''\n",
    "        for s1, s2 in zip(s1[0],s2[0]):\n",
    "            if s1 == 0 and s2 != 0:\n",
    "                bits+='1'\n",
    "            elif s2 == 0 and s1 != 0:\n",
    "                bits+='0'\n",
    "\n",
    "        if bits != '': break\n",
    "    num = int(bits,2)\n",
    "    return num"
   ]
  },
  {
   "cell_type": "markdown",
   "id": "f0a0dd2c-d885-4e8d-8405-4c4f42e1ed41",
   "metadata": {},
   "source": [
    "### Generating Random Numbers"
   ]
  },
  {
   "cell_type": "code",
   "execution_count": 40,
   "id": "75c607bd-fb1c-4958-96e3-d0d126c25388",
   "metadata": {},
   "outputs": [],
   "source": [
    "def random_numbers(numbers,state,depth):\n",
    "    num = []\n",
    "    for i in range(numbers):\n",
    "        no = post_processing(state,depth)\n",
    "        num.append(no)\n",
    "    return num"
   ]
  },
  {
   "cell_type": "code",
   "execution_count": 49,
   "id": "97eb483d-e351-45ea-9d0b-5b8c2c95ca95",
   "metadata": {},
   "outputs": [
    {
     "name": "stdout",
     "output_type": "stream",
     "text": [
      "[10, 3, 5, 1, 1, 2, 1, 1, 9, 2]\n"
     ]
    }
   ],
   "source": [
    "numbers1 = random_numbers(10,'10101',2)\n",
    "print(numbers1)"
   ]
  },
  {
   "cell_type": "code",
   "execution_count": 50,
   "id": "a83df519-ac9b-4341-a996-f71aaa28905a",
   "metadata": {},
   "outputs": [
    {
     "data": {
      "image/png": "[encoded data removed]",
      "text/plain": [
       "<Figure size 432x288 with 1 Axes>"
      ]
     },
     "metadata": {
      "needs_background": "light"
     },
     "output_type": "display_data"
    }
   ],
   "source": [
    "plt.hist(numbers1, 10, density=True)\n",
    "plt.show()"
   ]
  },
  {
   "cell_type": "code",
   "execution_count": null,
   "id": "baa548d3-c0c0-4394-9f41-53d74c046f74",
   "metadata": {},
   "outputs": [],
   "source": []
  }
 ],
 "metadata": {
  "kernelspec": {
   "display_name": "Python 3 (ipykernel)",
   "language": "python",
   "name": "python3"
  },
  "language_info": {
   "codemirror_mode": {
    "name": "ipython",
    "version": 3
   },
   "file_extension": ".py",
   "mimetype": "text/x-python",
   "name": "python",
   "nbconvert_exporter": "python",
   "pygments_lexer": "ipython3",
   "version": "3.10.4"
  }
 },
 "nbformat": 4,
 "nbformat_minor": 5
}
